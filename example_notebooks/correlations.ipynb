{
 "cells": [
  {
   "cell_type": "markdown",
   "metadata": {},
   "source": [
    "# Computing correlations in `Pyleoclim`"
   ]
  },
  {
   "cell_type": "markdown",
   "metadata": {},
   "source": [
    "Correlation analysis, despite its simplicity and many shortcomings, remains a centerpiece of empirical analysis in many fields, particularly the paleosciences. Computing correlations is trivial enough; the difficulty lies in properly assessing their significance. Of particular importance are three considerations:\n",
    "- **Persistence**, which violates the standard assumption that the data are independent (which underlies the classical test of significance implemented, e.g. in Excel). \n",
    "- **Time irregularities**, for instance comparing two records with different time axes, possibly unevenly spaced (which standard software cannot deal with out of the box)\n",
    "- **Age uncertainties** for example comparing two records, each with an ensemble of plausible chronologies (generated, for instance, by a Bayesian age model)\n",
    "- **Test multiplicity** aka the \"Look Elsewhere effect\", which states that repeatedly performing the same test can result in unacceptably high type I error (accepting correlations as significant, when in fact they are not). This arises e.g. when correlating a paleoclimate record with an instrumental field, assessing significance at thounsands of grid points at once, or assessing significance within an age ensemble.\n",
    "\n",
    "Accordingly,  `Pyleoclim` facilitates an assessment of correlations that deals with all these cases, makes the necessary data transformations transparent to the user, and allows for one-line plot commands to visualize the results. \n",
    "\n",
    "In this notebook, we illustrate some of these capabilities with several simple scenarios, including:\n",
    "1. Correlating a single `Series` object with another, both with consistent time axis\n",
    "2. Correlating a single `Series` object with another, with inconsistent time axis (same case below)\n",
    "3. Correlating a `MultipleSeries` object with a `Series` object as target\n",
    "4. Correlating a `MultipleSeries` object without a given target \n",
    "5. Correlating a `EnsembleSeries` object with a `Series` object as target\n",
    "6. Correlating a `EnsembleSeries` object with a given target\n",
    "7. Correlating two `EnsembleSeries` objects\n",
    "\n",
    "As usual, `Series` is the most foundamental timeseries object in `Pyleoclim`,\n",
    "`MultipleSeries` is a list of such `Series`, while\n",
    "`EnsembleSeries` is a type  of `MultipleSeries` (technically, a child class) assuming the\n",
    "members in the list come from an ensemble. For a primer on the various data structures, see the [documentation](https://pyleoclim-util.readthedocs.io/en/stable/core/ui.html#)."
   ]
  },
  {
   "cell_type": "code",
   "execution_count": 1,
   "metadata": {},
   "outputs": [],
   "source": [
    "%load_ext autoreload\n",
    "%autoreload 2\n",
    "    \n",
    "import pyleoclim as pyleo\n",
    "import scipy.io as sio\n",
    "import numpy as np"
   ]
  },
  {
   "cell_type": "markdown",
   "metadata": {},
   "source": [
    "## Test data"
   ]
  },
  {
   "cell_type": "markdown",
   "metadata": {},
   "source": [
    "We load the `ninoairdata` from Matlab (see https://www.mathworks.com/help/wavelet/ref/wcoherence.html) as our test data, which contains a series of air temperature and the [NINO3 SST index](https://climatedataguide.ucar.edu/climate-data/nino-sst-indices-nino-12-3-34-4-oni-and-tni)."
   ]
  },
  {
   "cell_type": "code",
   "execution_count": 2,
   "metadata": {},
   "outputs": [
    {
     "name": "stdout",
     "output_type": "stream",
     "text": [
      "data length: 1596\n"
     ]
    }
   ],
   "source": [
    "# load data\n",
    "data = sio.loadmat('../example_data/wtc_test_data_nino.mat')\n",
    "air = data['air'][:, 0]\n",
    "nino = data['nino'][:, 0]\n",
    "t = data['datayear'][:, 0]\n",
    "print('data length:', np.size(t))"
   ]
  },
  {
   "cell_type": "markdown",
   "metadata": {},
   "source": [
    "We randomly delete 500 data points from the original test data to create an inconsistent time axis for later test of the package's functionality."
   ]
  },
  {
   "cell_type": "code",
   "execution_count": 3,
   "metadata": {},
   "outputs": [
    {
     "name": "stdout",
     "output_type": "stream",
     "text": [
      "Time axis of air: [1871.08 1871.17 1871.25 ... 2003.42 2003.58 2003.75]\n",
      "Time axis of nino: [1871.08 1871.25 1871.33 ... 2003.42 2003.5  2003.58]\n"
     ]
    }
   ],
   "source": [
    "# randomly delete 500 data points\n",
    "n_del = 500\n",
    "np.random.seed(2333)\n",
    "deleted_idx_air = np.random.choice(range(np.size(t)), n_del, replace=False)\n",
    "np.random.seed(2334)\n",
    "deleted_idx_nino = np.random.choice(range(np.size(t)), n_del, replace=False)\n",
    "air_value_unevenly =  np.delete(air, deleted_idx_air)\n",
    "air_time_unevenly =  np.delete(t, deleted_idx_air)\n",
    "nino_value_unevenly =  np.delete(nino, deleted_idx_nino)\n",
    "nino_time_unevenly =  np.delete(t, deleted_idx_nino)\n",
    "print('Time axis of air:', air_time_unevenly)\n",
    "print('Time axis of nino:', nino_time_unevenly)\n",
    "\n",
    "# define Series\n",
    "ts_air_evenly = pyleo.Series(time=t, value=air)\n",
    "ts_nino_evenly = pyleo.Series(time=t, value=nino)\n",
    "ts_air_unevenly = pyleo.Series(time=air_time_unevenly, value=air_value_unevenly)\n",
    "ts_nino_unevenly = pyleo.Series(time=nino_time_unevenly, value=nino_value_unevenly)"
   ]
  },
  {
   "cell_type": "markdown",
   "metadata": {},
   "source": [
    "## Case 1: 1 `Series` vs 1 `Series`, with consistent time axis\n",
    "This is the simplest case, though it already illustrates problem #1 (the loss of independence of consecutive values due to autocorrelation, a form of persistence). To deal with this, `correlation` calls the function `corr_sig` (see [documentation](https://pyleoclim-util.readthedocs.io/en/stable/utils/correlation/corr_sig.html?highlight=corr_sig)), which uses an isospectral test of significance (generating 1000 surrogates of the original series by phase randomization, computing pairwise correlations, and gauging the original correlation against this ensemble). This approach is non-parametric, making no assumption about the structure of the series, and it is computationally quite fast except for very long series (over 10,000 points or so, on a typical laptop).  As you'll see now, for two short series, this computation is nearly instantaneous:"
   ]
  },
  {
   "cell_type": "code",
   "execution_count": 4,
   "metadata": {},
   "outputs": [
    {
     "name": "stdout",
     "output_type": "stream",
     "text": [
      "  correlation  p-value    signif. (α: 0.05)\n",
      "-------------  ---------  -------------------\n",
      "    -0.152394  < 1e-6     True\n",
      "\n"
     ]
    }
   ],
   "source": [
    "corr_res = ts_air_evenly.correlation(ts_nino_evenly)\n",
    "print(corr_res)"
   ]
  },
  {
   "cell_type": "markdown",
   "metadata": {},
   "source": [
    "The output of `correlation` is a simple dictionary containing 3 pieces of information: the numerical value of the correlation, a boolean flag saying whether it is significan or not, and an estimate of the p-value. In this case, a value of 0 means that the observed correlation of -0.152 is larger (in absolute value) than those of all the surrogate pairs, and is therefore significant by this test."
   ]
  },
  {
   "cell_type": "markdown",
   "metadata": {},
   "source": [
    "## Case 2: 1 `Series` vs 1 `Series`, with inconsistent time axis\n",
    "\n",
    "Now we compute the same correlation, but with the two series containing gaps in the time axis (our second challenge). Under the hood, what happens in this case is that the two `Series` objects are grouped as a `MultipleSeries` and the function `MultipleSeries.common_time()` is called to align the time axes utilizing either binning (default) or interpolation. "
   ]
  },
  {
   "cell_type": "code",
   "execution_count": 5,
   "metadata": {},
   "outputs": [
    {
     "name": "stdout",
     "output_type": "stream",
     "text": [
      "  correlation  p-value    signif. (α: 0.05)\n",
      "-------------  ---------  -------------------\n",
      "    -0.182957  < 1e-6     True\n",
      "\n"
     ]
    }
   ],
   "source": [
    "corr_res = ts_air_unevenly.correlation(ts_nino_unevenly)\n",
    "print(corr_res)"
   ]
  },
  {
   "cell_type": "markdown",
   "metadata": {},
   "source": [
    "Notice here that the correlation has increased (in absolute value) as a result of the time gaps. This shows how  age errors do not always decrease correlations (a commonly held assumption). As before, it only took two lines of code to get this result, but a lot has happened under the hood."
   ]
  },
  {
   "cell_type": "markdown",
   "metadata": {},
   "source": [
    "## Case 3: 1 `MultipleSeries` vs 1 `Series`\n",
    "\n",
    "Now imagine that you have a stack of records stored in a `MultipleSeries` object, which you want to correlate to a target (say, a climate index). \n",
    "\n",
    "For simplicity, we construct our `MultipleSeries` object by adding Gaussian white noise to the air temperature data. In this case, each member of the `MultipleSeries` will be compared to the target `Series`, and the result contains a list of correlation coefficients, a list of p-values, and a list of significance boolean values."
   ]
  },
  {
   "cell_type": "code",
   "execution_count": 6,
   "metadata": {},
   "outputs": [
    {
     "name": "stderr",
     "output_type": "stream",
     "text": [
      "100%|██████████| 10/10 [00:03<00:00,  2.71it/s]\n"
     ]
    }
   ],
   "source": [
    "nt = np.size(ts_air_unevenly.time)\n",
    "n_ens = 10  # ensemble size\n",
    "ts_list = []\n",
    "for i in range(n_ens):\n",
    "    np.random.seed(i)\n",
    "    noise = np.random.normal(loc=0, scale=2, size=nt)\n",
    "    value = air_value_unevenly + noise\n",
    "    new_ts = pyleo.Series(time=air_time_unevenly, value=value)\n",
    "    ts_list.append(new_ts)\n",
    "    \n",
    "ms_air = pyleo.MultipleSeries(ts_list)\n",
    "corr_res = ms_air.correlation(ts_nino_unevenly)"
   ]
  },
  {
   "cell_type": "markdown",
   "metadata": {},
   "source": [
    "## Case 4: 1 `MultipleSeries` without a given target\n",
    "\n",
    "If no target is provided (that is, if `correlation()` is applied to the `MultipleSeries` object by itself, the object's first member will be used as the target."
   ]
  },
  {
   "cell_type": "code",
   "execution_count": 7,
   "metadata": {},
   "outputs": [
    {
     "name": "stderr",
     "output_type": "stream",
     "text": [
      "100%|██████████| 10/10 [00:02<00:00,  3.69it/s]"
     ]
    },
    {
     "name": "stdout",
     "output_type": "stream",
     "text": [
      "  correlation  p-value    signif. w/o FDR (α: 0.05)    signif. w/ FDR (α: 0.05)\n",
      "-------------  ---------  ---------------------------  --------------------------\n",
      "     1         < 1e-6     True                         True\n",
      "     0.999937  < 1e-6     True                         True\n",
      "     0.999937  < 1e-6     True                         True\n",
      "     0.999934  < 1e-6     True                         True\n",
      "     0.999942  < 1e-6     True                         True\n",
      "     0.99994   < 1e-6     True                         True\n",
      "     0.999938  < 1e-6     True                         True\n",
      "     0.999939  < 1e-6     True                         True\n",
      "     0.999934  < 1e-6     True                         True\n",
      "     0.999938  < 1e-6     True                         True\n",
      "Ensemble size: 10\n"
     ]
    },
    {
     "name": "stderr",
     "output_type": "stream",
     "text": [
      "\n"
     ]
    }
   ],
   "source": [
    "nt = np.size(ts_air_unevenly.time)\n",
    "n_ens = 10  # ensemble size\n",
    "ts_list = []\n",
    "for i in range(n_ens):\n",
    "    np.random.seed(i)\n",
    "    noise = np.random.normal(loc=0, scale=2, size=nt)\n",
    "    value = air_value_unevenly + noise\n",
    "    new_ts = pyleo.Series(time=air_time_unevenly, value=value)\n",
    "    ts_list.append(new_ts)\n",
    "    \n",
    "ms_air = pyleo.MultipleSeries(ts_list)\n",
    "corr_res = ms_air.correlation()\n",
    "# note here the target Series is not specified, and the 1st Series inside\n",
    "# the MultipleSeries itself will be used as the target\n",
    "print(corr_res)"
   ]
  },
  {
   "cell_type": "markdown",
   "metadata": {},
   "source": [
    "## Case 5: 1 `EnsembleSeries` vs 1 `Series`\n",
    "\n",
    "This case is very similar to Case 3, except that we create an `EnsembleSeries` object to emphasize that the 100 members are from an ensemble. To speed up computations, we use the adjusted T-test option here, but recommend sticking with the default (isosopectral) test in a real scientific setting."
   ]
  },
  {
   "cell_type": "code",
   "execution_count": 8,
   "metadata": {},
   "outputs": [
    {
     "name": "stderr",
     "output_type": "stream",
     "text": [
      "100%|██████████| 100/100 [00:15<00:00,  6.33it/s]"
     ]
    },
    {
     "name": "stdout",
     "output_type": "stream",
     "text": [
      "  correlation  p-value    signif. w/o FDR (α: 0.05)    signif. w/ FDR (α: 0.05)\n",
      "-------------  ---------  ---------------------------  --------------------------\n",
      "  -0.0720826   0.07       False                        False\n",
      "  -0.143992    < 1e-3     True                         True\n",
      "  -0.087645    0.03       True                         False\n",
      "  -0.0931747   0.02       True                         True\n",
      "  -0.116653    < 1e-2     True                         True\n",
      "  -0.0576868   0.16       False                        False\n",
      "  -0.031742    0.44       False                        False\n",
      "  -0.0699311   0.09       False                        False\n",
      "  -0.138259    < 1e-3     True                         True\n",
      "  -0.116724    < 1e-2     True                         True\n",
      "  -0.111526    0.01       True                         True\n",
      "  -0.0600204   0.13       False                        False\n",
      "  -0.0272435   0.49       False                        False\n",
      "  -0.100963    0.01       True                         True\n",
      "  -0.090101    0.03       True                         False\n",
      "  -0.0135137   0.74       False                        False\n",
      "  -0.0764719   0.08       False                        False\n",
      "  -0.0545501   0.17       False                        False\n",
      "  -0.117596    < 1e-2     True                         True\n",
      "  -0.0840445   0.04       True                         False\n",
      "  -0.13394     < 1e-3     True                         True\n",
      "  -0.105862    0.01       True                         True\n",
      "  -0.0642808   0.10       False                        False\n",
      "  -0.0743582   0.06       False                        False\n",
      "  -0.0878637   0.04       True                         False\n",
      "  -0.0170373   0.68       False                        False\n",
      "  -0.086319    0.04       True                         False\n",
      "  -0.130403    < 1e-2     True                         True\n",
      "  -0.107642    0.01       True                         True\n",
      "  -0.0686362   0.10       False                        False\n",
      "  -0.0975942   0.02       True                         True\n",
      "  -0.0894562   0.03       True                         False\n",
      "  -0.11098     < 1e-2     True                         True\n",
      "  -0.0710185   0.11       False                        False\n",
      "  -0.0567052   0.16       False                        False\n",
      "  -0.0528961   0.22       False                        False\n",
      "  -0.106848    < 1e-2     True                         True\n",
      "  -0.160121    < 1e-3     True                         True\n",
      "  -0.0838038   0.05       True                         False\n",
      "  -0.0731854   0.07       False                        False\n",
      "  -0.0793632   0.06       False                        False\n",
      "  -0.0778112   0.07       False                        False\n",
      "  -0.0477696   0.25       False                        False\n",
      "  -0.130919    < 1e-2     True                         True\n",
      "  -0.120313    < 1e-2     True                         True\n",
      "  -0.0843804   0.05       False                        False\n",
      "  -0.103901    0.01       True                         True\n",
      "  -0.116213    < 1e-2     True                         True\n",
      "  -0.00626836  0.88       False                        False\n",
      "  -0.0792245   0.07       False                        False\n",
      "  -0.0637491   0.14       False                        False\n",
      "  -0.0703134   0.09       False                        False\n",
      "  -0.014976    0.71       False                        False\n",
      "  -0.128361    < 1e-2     True                         True\n",
      "  -0.0187761   0.65       False                        False\n",
      "  -0.102997    0.01       True                         True\n",
      "  -0.0918426   0.02       True                         False\n",
      "  -0.0109203   0.78       False                        False\n",
      "  -0.11799     < 1e-2     True                         True\n",
      "  -0.1043      0.01       True                         True\n",
      "  -0.0883419   0.03       True                         False\n",
      "  -0.0702574   0.09       False                        False\n",
      "  -0.120392    < 1e-2     True                         True\n",
      "  -0.113953    < 1e-2     True                         True\n",
      "   0.0139983   0.72       False                        False\n",
      "  -0.119343    < 1e-2     True                         True\n",
      "  -0.100543    0.02       True                         True\n",
      "  -0.0343101   0.41       False                        False\n",
      "  -0.0161207   0.70       False                        False\n",
      "  -0.0162643   0.70       False                        False\n",
      "  -0.0282118   0.50       False                        False\n",
      "  -0.151712    < 1e-3     True                         True\n",
      "  -0.141417    < 1e-3     True                         True\n",
      "  -0.0408273   0.35       False                        False\n",
      "  -0.141632    < 1e-3     True                         True\n",
      "  -0.156252    < 1e-3     True                         True\n",
      "  -0.112603    < 1e-2     True                         True\n",
      "  -0.085469    0.04       True                         False\n",
      "  -0.0766224   0.06       False                        False\n",
      "  -0.00407074  0.92       False                        False\n",
      "  -0.065407    0.12       False                        False\n",
      "  -0.101333    < 1e-2     True                         True\n",
      "  -0.176531    < 1e-4     True                         True\n",
      "  -0.0575678   0.14       False                        False\n",
      "  -0.130458    < 1e-2     True                         True\n",
      "  -0.107629    < 1e-2     True                         True\n",
      "  -0.0659621   0.09       False                        False\n",
      "  -0.099835    0.02       True                         True\n",
      "  -0.0975061   0.02       True                         True\n",
      "  -0.0709331   0.08       False                        False\n",
      "  -0.0826218   0.04       True                         False\n",
      "  -0.0810772   0.05       True                         False\n",
      "  -0.0495043   0.24       False                        False\n",
      "  -0.0620945   0.13       False                        False\n",
      "  -0.129323    < 1e-2     True                         True\n",
      "  -0.0313584   0.45       False                        False\n",
      "  -0.0891219   0.03       True                         False\n",
      "  -0.00726877  0.86       False                        False\n",
      "  -0.102955    0.01       True                         True\n",
      "  -0.114444    < 1e-2     True                         True\n",
      "Ensemble size: 100\n"
     ]
    },
    {
     "name": "stderr",
     "output_type": "stream",
     "text": [
      "\n"
     ]
    }
   ],
   "source": [
    "nt = np.size(ts_air_unevenly.time)\n",
    "n_ens = 100  # ensemble size\n",
    "ts_list = []\n",
    "for i in range(n_ens):\n",
    "    np.random.seed(i)\n",
    "    noise = np.random.normal(loc=0, scale=500, size=nt)\n",
    "    value = air_value_unevenly + noise\n",
    "    new_ts = pyleo.Series(time=air_time_unevenly, value=value)\n",
    "    ts_list.append(new_ts)\n",
    "    \n",
    "ms_air = pyleo.EnsembleSeries(ts_list)\n",
    "corr_res = ms_air.correlation(ts_nino_unevenly, settings={'method': 'ttest'})  # use 'ttest' only to accelerate\n",
    "print(corr_res)"
   ]
  },
  {
   "cell_type": "markdown",
   "metadata": {},
   "source": [
    "Now this gets unwieldy to interpret. To ease this step, `Pyleoclim` provides the option to visualize the result in a simple line call:"
   ]
  },
  {
   "cell_type": "code",
   "execution_count": 9,
   "metadata": {
    "scrolled": true
   },
   "outputs": [
    {
     "data": {
      "image/png": "[encoded data removed]",
      "text/plain": "<Figure size 400x400 with 1 Axes>"
     },
     "metadata": {},
     "output_type": "display_data"
    }
   ],
   "source": [
    "pyleo.set_style('web')\n",
    "fig, ax = corr_res.plot(title='Correlation Ensemble')"
   ]
  },
  {
   "cell_type": "markdown",
   "metadata": {},
   "source": [
    "On this plot, gray bars represent the histogram of observed correlations, green bars mark those correlations significant at the 5% level, which comprise about half of the ensemble. Now, as we alluded to earlier, this may be an artifact of multiple testing, which will lead us to accept many results as \"significant\" if we conduct the same test repeatedly. To mitigate this,  `Pyleoclim` implements the False Discovery Rate procedure of [Benjamini & Hochberg (1995)](https://rss.onlinelibrary.wiley.com/doi/abs/10.1111/j.2517-6161.1995.tb02031.x).  (more on this below). This is shown in the orange bars, which together cover about 29% of the cases (i.e. 2/3 of the correlations identified as significant without the FDR procedure). We note that it is the green + orange bars together that correspond to the 51% of the cases identified thus. "
   ]
  },
  {
   "cell_type": "markdown",
   "metadata": {},
   "source": [
    "## Case 6: 1 `EnsembleSeries` without a given target\n",
    "\n",
    "This case is similar to Case 4, but for ensembles, and the function works similarly. "
   ]
  },
  {
   "cell_type": "code",
   "execution_count": 10,
   "metadata": {},
   "outputs": [
    {
     "name": "stderr",
     "output_type": "stream",
     "text": [
      "100%|██████████| 10/10 [00:02<00:00,  3.66it/s]"
     ]
    },
    {
     "name": "stdout",
     "output_type": "stream",
     "text": [
      "  correlation  p-value    signif. w/o FDR (α: 0.05)    signif. w/ FDR (α: 0.05)\n",
      "-------------  ---------  ---------------------------  --------------------------\n",
      "     1         < 1e-6     True                         True\n",
      "     0.999937  < 1e-6     True                         True\n",
      "     0.999937  < 1e-6     True                         True\n",
      "     0.999934  < 1e-6     True                         True\n",
      "     0.999942  < 1e-6     True                         True\n",
      "     0.99994   < 1e-6     True                         True\n",
      "     0.999938  < 1e-6     True                         True\n",
      "     0.999939  < 1e-6     True                         True\n",
      "     0.999934  < 1e-6     True                         True\n",
      "     0.999938  < 1e-6     True                         True\n",
      "Ensemble size: 10\n"
     ]
    },
    {
     "name": "stderr",
     "output_type": "stream",
     "text": [
      "\n"
     ]
    }
   ],
   "source": [
    "nt = np.size(ts_air_unevenly.time)\n",
    "n_ens = 10  # ensemble size\n",
    "ts_list = []\n",
    "for i in range(n_ens):\n",
    "    np.random.seed(i)\n",
    "    noise = np.random.normal(loc=0, scale=2, size=nt)\n",
    "    value = air_value_unevenly + noise\n",
    "    new_ts = pyleo.Series(time=air_time_unevenly, value=value)\n",
    "    ts_list.append(new_ts)\n",
    "    \n",
    "ms_air = pyleo.EnsembleSeries(ts_list)\n",
    "corr_res = ms_air.correlation()  # note here the target Series is not specified\n",
    "print(corr_res)"
   ]
  },
  {
   "cell_type": "markdown",
   "metadata": {},
   "source": [
    "Again, with a large ensemble one could visualize the histogram of correlations as above."
   ]
  },
  {
   "cell_type": "markdown",
   "metadata": {},
   "source": [
    "## Case 7: 1 `EnsembleSeries` vs 1 `EnsembleSeries`\n",
    "\n",
    "The sizes of the two `EnsembleSeries` objects can be different.\n",
    "Suppose we name the two groups as A and B, then\n",
    "the calculation of correlations will follow a pairwise procedure,\n",
    "i.e., compare the 1st (2nd, 3rd, ...) member from A to the 1st (2nd, 3rd, ..) member from B, and stop when running out of members from either group.\n",
    "\n",
    "For simplicity, we construct two `EnsembleSeries` by adding normal distribution noise realizations to the air temperature data and the NINO index data, respectively."
   ]
  },
  {
   "cell_type": "code",
   "execution_count": 11,
   "metadata": {},
   "outputs": [
    {
     "name": "stderr",
     "output_type": "stream",
     "text": [
      "100%|██████████| 10/10 [00:03<00:00,  2.78it/s]"
     ]
    },
    {
     "name": "stdout",
     "output_type": "stream",
     "text": [
      "  correlation  p-value    signif. w/o FDR (α: 0.05)    signif. w/ FDR (α: 0.05)\n",
      "-------------  ---------  ---------------------------  --------------------------\n",
      "   -0.0655815  0.09       False                        False\n",
      "   -0.0942834  < 1e-2     True                         True\n",
      "   -0.0953874  < 1e-2     True                         True\n",
      "   -0.167489   < 1e-6     True                         True\n",
      "   -0.097356   < 1e-2     True                         True\n",
      "   -0.131106   < 1e-6     True                         True\n",
      "   -0.0938296  0.01       True                         True\n",
      "   -0.0888767  0.02       True                         True\n",
      "   -0.0407922  0.27       False                        False\n",
      "   -0.103274   < 1e-2     True                         True\n",
      "Ensemble size: 10\n"
     ]
    },
    {
     "name": "stderr",
     "output_type": "stream",
     "text": [
      "\n"
     ]
    }
   ],
   "source": [
    "nt = np.size(ts_air_unevenly.time)\n",
    "n_ens = 10  # ensemble size\n",
    "ts_list = []\n",
    "for i in range(n_ens):\n",
    "    np.random.seed(i)\n",
    "    noise = np.random.normal(loc=0, scale=2, size=nt)\n",
    "    value = air_value_unevenly + noise\n",
    "    new_ts = pyleo.Series(time=air_time_unevenly, value=value)\n",
    "    ts_list.append(new_ts)\n",
    "    \n",
    "ms_air = pyleo.EnsembleSeries(ts_list)\n",
    "    \n",
    "ts_list = []\n",
    "for i in range(n_ens):\n",
    "    np.random.seed(i+1000)\n",
    "    noise = np.random.normal(loc=0, scale=2, size=nt)\n",
    "    value = nino_value_unevenly + noise\n",
    "    new_ts = pyleo.Series(time=nino_time_unevenly, value=value)\n",
    "    ts_list.append(new_ts)\n",
    "    \n",
    "ms_nino = pyleo.EnsembleSeries(ts_list)\n",
    "corr_res = ms_air.correlation(ms_nino)\n",
    "print(corr_res)"
   ]
  },
  {
   "cell_type": "markdown",
   "metadata": {},
   "source": [
    "To properly illustrate correlations with age-uncertain ensembles based on real datasets, see examples in [LiPDBooks](https://github.com/LinkedEarth/LiPDbooks/tree/master/notebooks)."
   ]
  },
  {
   "cell_type": "markdown",
   "metadata": {},
   "source": [
    "## About `apply_fdr` in `EnsembleSeries.correlation()`\n",
    "\n",
    "One major difference between `MultipleSeries.correlation()` and `EnsembleSeries.correlation()` is that the latter has the argument `apply_fdr=True` by default, which means that in an ensemble context, the FDR approach is  to applied by default to determine whether the calculated p-values are significant. You can opt out of it by setting the flag to `False`, but not before carefully considering whether this is wise. \n",
    "\n",
    "Below we  explain the basic idea of FDR and demonstrate the use of `Pyleoclim`'s underlying FDR function with two simple tests to help understand the idea.\n",
    "\n",
    "### Basic idea of FDR\n",
    "Quoting from [Ventura et al. (2004)](https://journals.ametsoc.org/doi/full/10.1175/3199.1): \"A single test performed at signiﬁcance level $\\alpha$ has probability $\\alpha$ of rejecting the null hypothesis when it is in fact true. Hence if $n$ such tests are performed when all $n$ null hypotheses are true (the collective null hypothesis), then the average number of tests for which the null is falsely rejected is $n\\alpha$. For example, with $\\alpha = 5\\%$, testing for a trend at 1000 locations at which no change really occurred would yield 50 signiﬁcant locations on average; this is unacceptably high.\"\n",
    "\n",
    "To overcome this disadvantage, there have been some alternatives, among which the enormously popular False Discovery Rate (FDR), introduced by Benjamini & Hochberg (1995) (BH95 hereafter). There are other variants such as Yekutieli & Benjamini (1999, 2001), and Ventura et al. (2004).\n",
    "\n",
    "The idea is as follows: a multiple testing procedure, returns a list of $p$-values.\n",
    "With the traditional false positive test, the significance level $\\alpha=0.05$ is refered as the false positive rate (FPR), and we reject null hypothesis $H_0$ at all locations $p_i < \\alpha$.\n",
    "\n",
    "In the original BH95 method, the nominal FDR, denoted by $q$, is defined as the rate we are willing to allow of false rejections out of all rejections, and is usually set to $5\\%$. The BH95 procedure rejects $H_0$ in all cases $i$ for which $p_i \\le p_k$, where $k = \\max_{i=0,...,n} \\{i: p_{(i)}\\le q i/n \\}$. For an illustration, see Fig 2 of [Hu et al (2017)](http://dx.doi.org/10.1016/j.epsl.2016.11.048)."
   ]
  },
  {
   "cell_type": "markdown",
   "metadata": {},
   "source": [
    "### The underlying FDR function in `Pyleoclim`"
   ]
  },
  {
   "cell_type": "code",
   "execution_count": 12,
   "metadata": {},
   "outputs": [
    {
     "name": "stdout",
     "output_type": "stream",
     "text": [
      "\u001b[0;31mSignature:\u001b[0m \u001b[0mfdr\u001b[0m\u001b[0;34m(\u001b[0m\u001b[0mpvals\u001b[0m\u001b[0;34m,\u001b[0m \u001b[0mqlevel\u001b[0m\u001b[0;34m=\u001b[0m\u001b[0;36m0.05\u001b[0m\u001b[0;34m,\u001b[0m \u001b[0mmethod\u001b[0m\u001b[0;34m=\u001b[0m\u001b[0;34m'original'\u001b[0m\u001b[0;34m,\u001b[0m \u001b[0madj_method\u001b[0m\u001b[0;34m=\u001b[0m\u001b[0;32mNone\u001b[0m\u001b[0;34m,\u001b[0m \u001b[0madj_args\u001b[0m\u001b[0;34m=\u001b[0m\u001b[0;34m{\u001b[0m\u001b[0;34m}\u001b[0m\u001b[0;34m)\u001b[0m\u001b[0;34m\u001b[0m\u001b[0;34m\u001b[0m\u001b[0m\n",
      "\u001b[0;31mDocstring:\u001b[0m\n",
      "Determine significance based on the FDR approach\n",
      "\n",
      "The false discovery rate is a method of conceptualizing the rate of type I errors in null hypothesis testing when conducting multiple comparisons. \n",
      "Translated from fdr.R by Dr. Chris Paciorek \n",
      "\n",
      "Parameters\n",
      "----------\n",
      "\n",
      "pvals : list or array\n",
      "    A vector of p-values on which to conduct the multiple testing.\n",
      "\n",
      "qlevel : float\n",
      "    The proportion of false positives desired.\n",
      "\n",
      "method : {'original', 'general'}\n",
      "    Method for performing the testing.\n",
      "        - 'original' follows Benjamini & Hochberg (1995);\n",
      "        - 'general' is much more conservative, requiring no assumptions on the p-values (see Benjamini & Yekutieli (2001)).\n",
      "        'original' is recommended, and if desired, using 'adj_method=\"mean\"' to increase power.\n",
      "\n",
      "adj_method: {'mean', 'storey', 'two-stage'}\n",
      "    Method for increasing the power of the procedure by estimating the proportion of alternative p-values.\n",
      "        - 'mean', the modified Storey estimator in Ventura et al. (2004)\n",
      "        - 'storey', the method of Storey (2002)\n",
      "        - 'two-stage', the iterative approach of Benjamini et al. (2001)\n",
      "\n",
      "adj_args : dict\n",
      "    Arguments for adj_method; see prop_alt() for description,\n",
      "    but note that for \"two-stage\", qlevel and fdr_method are taken from the qlevel and method arguments for fdr()\n",
      "\n",
      "Returns\n",
      "-------\n",
      "\n",
      "fdr_res : array or None\n",
      "    A vector of the indices of the significant tests; None if no significant tests\n",
      "\n",
      "References\n",
      "----------\n",
      "\n",
      "- fdr.R by Dr. Chris Paciorek: https://www.stat.berkeley.edu/~paciorek/research/code/code.html\n",
      "\u001b[0;31mFile:\u001b[0m      ~/Github/Pyleoclim_util/pyleoclim/utils/correlation.py\n",
      "\u001b[0;31mType:\u001b[0m      function\n"
     ]
    }
   ],
   "source": [
    "from pyleoclim.utils.correlation import fdr\n",
    "\n",
    "?fdr"
   ]
  },
  {
   "cell_type": "markdown",
   "metadata": {},
   "source": [
    "#### Example case I\n",
    "\n",
    "First let's generate a list of $p$-values with size 10 to emulate 10 tests."
   ]
  },
  {
   "cell_type": "code",
   "execution_count": 13,
   "metadata": {},
   "outputs": [
    {
     "name": "stdout",
     "output_type": "stream",
     "text": [
      "p-value list:\n",
      " [0.05297776 0.08944875 0.02423382 0.09269607 0.01918608 0.03875847\n",
      " 0.02873022 0.07296763 0.04393807 0.03032502]\n",
      "None\n"
     ]
    }
   ],
   "source": [
    "np.random.seed(2333)\n",
    "pval_list = np.random.random(10)/10\n",
    "print('p-value list:\\n', pval_list)\n",
    "\n",
    "fdr_res = fdr(pval_list, method='original')\n",
    "print(fdr_res)"
   ]
  },
  {
   "cell_type": "markdown",
   "metadata": {},
   "source": [
    "In the case above, we get `None`, which means that there are no significant tests.\n",
    "Note that the 3rd test has p-value equals to 0.024, which will be treated as significant in traditional false positive test where the significance level $\\alpha=0.05$.\n",
    "Now let's test another case below.\n",
    "\n",
    "#### Example case II"
   ]
  },
  {
   "cell_type": "code",
   "execution_count": 14,
   "metadata": {},
   "outputs": [
    {
     "name": "stdout",
     "output_type": "stream",
     "text": [
      "p-value list:\n",
      " [0.03531851 0.0596325  0.01615588 0.06179738 0.01279072 0.02583898\n",
      " 0.01915348 0.04864508 0.02929205 0.02021668] \n",
      "\n",
      "[2 4 5 6 8 9] \n",
      "\n",
      "Index\tp-value\n",
      "2\t0.01615588065179053\n",
      "4\t0.01279071873650784\n",
      "5\t0.02583898106901107\n",
      "6\t0.019153480900810392\n",
      "8\t0.029292048677502642\n",
      "9\t0.020216678222839013\n"
     ]
    }
   ],
   "source": [
    "np.random.seed(2333)\n",
    "pval_list = np.random.random(10)/15\n",
    "print('p-value list:\\n', pval_list, '\\n')\n",
    "\n",
    "fdr_res = fdr(pval_list, method='original')\n",
    "print(fdr_res, '\\n')\n",
    "\n",
    "print('Index\\tp-value')\n",
    "for idx in fdr_res:\n",
    "    print(f'{idx}\\t{pval_list[idx]}')"
   ]
  },
  {
   "cell_type": "markdown",
   "metadata": {},
   "source": [
    "In this 2nd case, the `fdr` function returns a list of indices, which indicates the significant ones among the 10 tests.\n",
    "Note that the 1st test has p-value equals to 0.035, which will be treated as significant in traditional false positive test where the significance level $\\alpha=0.05$."
   ]
  },
  {
   "cell_type": "markdown",
   "metadata": {},
   "source": [
    "With the `EnsembleSeries.correlation()` method, this FDR approach will be applied by default when determine the significance of each p-value."
   ]
  }
 ],
 "metadata": {
  "kernelspec": {
   "display_name": "Python 3.8.8 64-bit ('LMRt': conda)",
   "name": "python388jvsc74a57bd016ca7ed61a2c1ca68ca9e7f9e6b9a78c3b439225ce9d26ef829afeb96a3d3a60"
  },
  "language_info": {
   "codemirror_mode": {
    "name": "ipython",
    "version": 3
   },
   "file_extension": ".py",
   "mimetype": "text/x-python",
   "name": "python",
   "nbconvert_exporter": "python",
   "pygments_lexer": "ipython3",
   "version": "3.8.8"
  }
 },
 "nbformat": 4,
 "nbformat_minor": 4
}